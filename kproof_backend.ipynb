{
 "cells": [
  {
   "cell_type": "markdown",
   "metadata": {},
   "source": [
    "# kinetic proofreading animation\n",
    "PCN 8/2017<br>\n",
    "This code just displays the results from riboproof2.py, via the data file kproof.npz<br>\n",
    "tRNA-AA-GTP complexes appear suddenly from solution<br>\n",
    "red = wrong; green = right<br>\n",
    "GTP = dark color; GDP = bright color<br>\n",
    "GTP = cylinder; GDP = sphere; <br>\n",
    "incorporated = sphere.<br>\n",
    "GTP hydrolysis = shift right and deepening color<br>\n",
    "rejected tRNA-AA-GxP appear briefly ghosted then disappear<br>\n",
    "AA incorporation shifts the chain over to the right"
   ]
  },
  {
   "cell_type": "code",
   "execution_count": 1,
   "metadata": {},
   "outputs": [
    {
     "data": {
      "application/javascript": [
       "require.undef(\"nbextensions/vpython_libraries/glow.min\");"
      ],
      "text/plain": [
       "<IPython.core.display.Javascript object>"
      ]
     },
     "metadata": {},
     "output_type": "display_data"
    },
    {
     "data": {
      "application/javascript": [
       "require.undef(\"nbextensions/vpython_libraries/glowcomm\");"
      ],
      "text/plain": [
       "<IPython.core.display.Javascript object>"
      ]
     },
     "metadata": {},
     "output_type": "display_data"
    },
    {
     "data": {
      "application/javascript": [
       "require.undef(\"nbextensions/vpython_libraries/jquery-ui.custom.min\");"
      ],
      "text/plain": [
       "<IPython.core.display.Javascript object>"
      ]
     },
     "metadata": {},
     "output_type": "display_data"
    },
    {
     "data": {
      "application/javascript": [
       "require([\"nbextensions/vpython_libraries/glow.min\"], function(){console.log(\"GLOW LOADED\");})"
      ],
      "text/plain": [
       "<IPython.core.display.Javascript object>"
      ]
     },
     "metadata": {},
     "output_type": "display_data"
    },
    {
     "data": {
      "application/javascript": [
       "require([\"nbextensions/vpython_libraries/glowcomm\"], function(){console.log(\"GLOWCOMM LOADED\");})"
      ],
      "text/plain": [
       "<IPython.core.display.Javascript object>"
      ]
     },
     "metadata": {},
     "output_type": "display_data"
    },
    {
     "data": {
      "application/javascript": [
       "require([\"nbextensions/vpython_libraries/jquery-ui.custom.min\"], function(){console.log(\"JQUERY LOADED\");})"
      ],
      "text/plain": [
       "<IPython.core.display.Javascript object>"
      ]
     },
     "metadata": {},
     "output_type": "display_data"
    },
    {
     "data": {
      "text/html": [
       "<div id=\"glowscript\" class=\"glowscript\"></div>"
      ],
      "text/plain": [
       "<IPython.core.display.HTML object>"
      ]
     },
     "metadata": {},
     "output_type": "display_data"
    },
    {
     "data": {
      "application/javascript": [
       "window.__context = { glowscript_container: $(\"#glowscript\").removeAttr(\"id\")}"
      ],
      "text/plain": [
       "<IPython.core.display.Javascript object>"
      ]
     },
     "metadata": {},
     "output_type": "display_data"
    },
    {
     "data": {
      "text/plain": [
       "42300.0"
      ]
     },
     "execution_count": 1,
     "metadata": {},
     "output_type": "execute_result"
    }
   ],
   "source": [
    "from vpython import *\n",
    "from numpy.random import random as rng\n",
    "import numpy as np\n",
    "fracshow = 0.94 \n",
    "framerate = 30              # frame rate in Hz, so 30 means 33ms per frame\n",
    "duration = 1500             # desired duration of movie [s]\n",
    "mysphererad = 0.15\n",
    "hydrolysis_sh = mysphererad-.05\n",
    "data = np.load('kproof.npz')\n",
    "ts = data['ts'][0]          # transition times\n",
    "states = data['states'][0]  # sequence of states\n",
    "Nstates = len(states)\n",
    "timeunit = duration/ts[-1]  # real time [s] per unit in the simulation\n",
    "rejectduration = 2          # how long to display rejected (in frames)\n",
    "timerT = 0; timerD = 0      # initialize\n",
    "framerate*duration*fracshow # how many frames we'll see"
   ]
  },
  {
   "cell_type": "markdown",
   "metadata": {},
   "source": [
    "Time is initially 0. State is initially states[0]=0. At time ts[0] transition to states[1], which is negative if it terminates with an incorporation."
   ]
  },
  {
   "cell_type": "code",
   "execution_count": 2,
   "metadata": {
    "scrolled": true
   },
   "outputs": [
    {
     "data": {
      "text/html": [
       "<div id=\"glowscript\" class=\"glowscript\"></div>"
      ],
      "text/plain": [
       "<IPython.core.display.HTML object>"
      ]
     },
     "metadata": {},
     "output_type": "display_data"
    },
    {
     "data": {
      "application/javascript": [
       "window.__context = { glowscript_container: $(\"#glowscript\").removeAttr(\"id\")}"
      ],
      "text/plain": [
       "<IPython.core.display.Javascript object>"
      ]
     },
     "metadata": {},
     "output_type": "display_data"
    }
   ],
   "source": [
    "scene = canvas(title='KP')\n",
    "scene.forward = vector(0,.4,-1) # camera viewpoint\n",
    "# represent ribosome by a blue box\n",
    "static = box(pos=vector(0,0,0), size=vector(1,1,.2), color=color.blue)\n",
    "bindsite = vector(-.15,0,.1)\n",
    "# represent the bound tRNA-GTP complex by a cylinder: invisible if none bound, dark\n",
    "#  green if right, dark red if wrong\n",
    "boundT = cylinder(pos=bindsite+vector(0,0,mysphererad*1.5), axis=vector(0,0,.17), radius=mysphererad*.85)\n",
    "boundT.visible = False # initially none\n",
    "# after a tRNA-GTP is rejected, briefly show it as ghost\n",
    "rejectT = cylinder(pos=bindsite+vector(mysphererad,0,2*mysphererad*1.5), axis=vector(0,0,.17), \\\n",
    "                   radius=mysphererad*.85, opacity=0.3)\n",
    "rejectT.visible = False\n",
    "# represent bound tRNA-GDP complex by a sphere, with bright color\n",
    "boundD = sphere(pos=bindsite+vector(hydrolysis_sh,0,.3), radius=mysphererad)\n",
    "boundD.visible = False # initially none\n",
    "chain = [] # list of blobs representing incorporated AAs. Last item in chain is most recent addition.\n",
    "chainsite = vector(+.25,0,.1)\n",
    "# after a tRNA-GDP is rejected, briefly show it as ghost\n",
    "rejectD = sphere(pos=bindsite+vector(mysphererad+hydrolysis_sh,0,.3+1.5*mysphererad), \\\n",
    "                 radius=mysphererad, opacity=0.3)\n",
    "rejectD.visible = False"
   ]
  },
  {
   "cell_type": "code",
   "execution_count": null,
   "metadata": {
    "collapsed": true
   },
   "outputs": [],
   "source": [
    "j=0;  # which event we're on now\n",
    "for whichframe in range(int(framerate*duration*fracshow)): # stop slightly short of end\n",
    "    timenow = whichframe/framerate\n",
    "    incorp = False                           # initialize\n",
    "    while ts[j]*timeunit < timenow:          # update which event we're on now\n",
    "        if states[j]==-3:                    # elongate chain: correct incorporation\n",
    "            rejectD.visible = False; rejectT.visible = False\n",
    "            for amino in chain:              # push everybody to right\n",
    "                amino.pos = amino.pos + vector(mysphererad*2,0,0)\n",
    "            chain = chain + [sphere(pos=chainsite+vector(0,0,.3), radius=mysphererad,color=vector(0,1,0))]\n",
    "        elif states[j]==-4:                  # elongate chain: wrong incorporation\n",
    "            rejectD.visible = False; rejectT.visible = False\n",
    "            for x in chain:\n",
    "                x.pos = x.pos + vector(mysphererad*2,0,0)\n",
    "            chain = chain + [sphere(pos=chainsite+vector(0,0,.3), radius=mysphererad,color=vector(1,0,0))]\n",
    "        j+=1\n",
    "        if states[j]==0 and states[j-1]==1:  # correct.T unbinds: dark translucent green\n",
    "            rejectT.visible = True           #later will also turn off boundT\n",
    "            timerT = 0                       # display rejected amino for a while \n",
    "            rejectT.color = vector(.5,1,.5)\n",
    "        elif states[j]==0 and states[j-1]==2:# wrong.T unbinds: dark translucent red\n",
    "            rejectT.visible = True           #later will also turn off boundT\n",
    "            timerT = 0                       # display rejected amino for a while \n",
    "            rejectT.color = vector(1,.5,.5)\n",
    "        elif states[j]==0 and states[j-1]==3:# correct.D unbinds: bright translucent green\n",
    "            rejectD.visible = True           #later will also turn off boundD\n",
    "            timerD = 0                       # display rejected amino for a while \n",
    "            rejectD.color = vector(0,1,0)\n",
    "        elif states[j]==0 and states[j-1]==4:# wrong.D unbinds: bright translucent red\n",
    "            rejectD.visible = True           #later will also turn off boundD\n",
    "            timerD = 0                       # display rejected amino for a while \n",
    "            rejectD.color = vector(1,0,0)\n",
    "\n",
    "    if states[j]==0:                         # unoccupied; continue to display rejected if there is one\n",
    "        boundT.visible = False\n",
    "        boundD.visible = False\n",
    "    elif states[j]==1:                       # correct tRNA.GTP: dark green\n",
    "        boundT.visible = True\n",
    "        boundT.color = vector(0,.3,0)\n",
    "        boundD.visible = False\n",
    "        if timerD > rejectduration: rejectD.visible = False\n",
    "        if timerT > rejectduration: rejectT.visible = False\n",
    "    elif states[j]==2:                       # wrong tRNA.GTP: dark red\n",
    "        boundT.visible = True\n",
    "        boundT.color = vector(.3,0,0)\n",
    "        boundD.visible = False\n",
    "        if timerD > rejectduration: rejectD.visible = False\n",
    "        if timerT > rejectduration: rejectT.visible = False\n",
    "    elif states[j]==3 or states[j]==-3:      # correct tRNA.GDP: green\n",
    "        boundT.visible = False\n",
    "        boundD.visible = True\n",
    "        boundD.color = vector(0,1,0)\n",
    "        if timerD > rejectduration: rejectD.visible = False\n",
    "        if timerT > rejectduration: rejectT.visible = False\n",
    "    elif states[j]==4 or states[j]==-4:      # wrong tRNA.GDP: red\n",
    "        boundT.visible = False\n",
    "        boundD.visible = True\n",
    "        boundD.color = vector(1,0,0)\n",
    "        if timerD > rejectduration: rejectD.visible = False\n",
    "        if timerT > rejectduration: rejectT.visible = False\n",
    "    timerT += 1; timerD += 1\n",
    "    rate(framerate)                          # pause till it's time to show the frame"
   ]
  },
  {
   "cell_type": "code",
   "execution_count": null,
   "metadata": {
    "collapsed": true
   },
   "outputs": [],
   "source": [
    "states[:5]"
   ]
  },
  {
   "cell_type": "code",
   "execution_count": null,
   "metadata": {
    "collapsed": true
   },
   "outputs": [],
   "source": [
    "ts[:5]"
   ]
  },
  {
   "cell_type": "markdown",
   "metadata": {
    "collapsed": true
   },
   "source": [
    "x"
   ]
  },
  {
   "cell_type": "code",
   "execution_count": null,
   "metadata": {
    "collapsed": true
   },
   "outputs": [],
   "source": []
  }
 ],
 "metadata": {
  "kernelspec": {
   "display_name": "VPython",
   "language": "python",
   "name": "vpython"
  },
  "language_info": {
   "codemirror_mode": {
    "name": "ipython",
    "version": 3
   },
   "file_extension": ".py",
   "mimetype": "text/x-python",
   "name": "python",
   "nbconvert_exporter": "python",
   "pygments_lexer": "ipython3",
   "version": "3.6.1"
  }
 },
 "nbformat": 4,
 "nbformat_minor": 2
}
