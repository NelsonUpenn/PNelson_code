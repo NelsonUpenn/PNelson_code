{
 "cells": [
  {
   "cell_type": "markdown",
   "metadata": {},
   "source": [
    "# Kinetic Proofreading Animation\n",
    "2019\n",
    "Author: Chen Zuckerman Nelson  (nelson@physics.upenn.edu)\n",
    "\n",
    "Python: 3.8   ChenCode4-kproofBackend.ipynb\n",
    "\n",
    "Description: VPython animation to display the simulation results from Code 3. It reads the data files kproof_HN.npz or kproof_realistic.npz emitted by Code 3. If the flag \"povray\" is set True, then this code writes a lot of .pov files (ray-traced images of each frame). Use \"POVRay Unofficial.app\" to convert to .png. Then, use \n",
    "ffmpeg to compile .png files into movie.\n",
    "\n",
    "Example ffmpeg command: <br>\n",
    "ffmpeg -r 15 -i \"/C:/pathname/%04d_realistic.png\" -pix_fmt yuv420p realistic_150s.mp4 \n",
    "\n",
    "The number 15 sets the framerate of the compiled movie. It should match the framerate chosen when creating the animation using the code below. The \"%04d\" in the filename tells ffmpeg to look for files with the name format 0001_realistic.png, 0002_realistic.png, ... and so on. \"realistic_150s.mp4\" is the chosen name of the movie.  \n",
    "<br> \n",
    "Generates Video 3, 4 and 5 of \"Stochastic Simulation to Visualize Gene Expression and Error Correction in Living Cells\"<br>\n",
    "\n",
    "tRNA-amino acid (AA)-GTP complexes appear from solution<br>\n",
    "red = wrong; green = right<br>\n",
    "GTP = dark color; GDP = bright color<br>\n",
    "GTP = cylinder; GDP = sphere; <br>\n",
    "GTP hydrolysis = shift right and deepening color<br>\n",
    "rejected tRNA-AA-GxP appear briefly ghosted then disappear<br>\n",
    "AA incorporation shifts the nascent chain over to the right.\n"
   ]
  },
  {
   "cell_type": "markdown",
   "metadata": {},
   "source": [
    "Preparations; set appearance parameters; load data:"
   ]
  },
  {
   "cell_type": "code",
   "execution_count": 1,
   "metadata": {},
   "outputs": [
    {
     "data": {
      "application/javascript": [
       "require.undef(\"nbextensions/vpython_libraries/glow.min\");"
      ],
      "text/plain": [
       "<IPython.core.display.Javascript object>"
      ]
     },
     "metadata": {},
     "output_type": "display_data"
    },
    {
     "data": {
      "application/javascript": [
       "require.undef(\"nbextensions/vpython_libraries/glowcomm\");"
      ],
      "text/plain": [
       "<IPython.core.display.Javascript object>"
      ]
     },
     "metadata": {},
     "output_type": "display_data"
    },
    {
     "data": {
      "application/javascript": [
       "require.undef(\"nbextensions/vpython_libraries/jquery-ui.custom.min\");"
      ],
      "text/plain": [
       "<IPython.core.display.Javascript object>"
      ]
     },
     "metadata": {},
     "output_type": "display_data"
    },
    {
     "data": {
      "application/javascript": [
       "require([\"nbextensions/vpython_libraries/glow.min\"], function(){console.log(\"GLOW LOADED\");})"
      ],
      "text/plain": [
       "<IPython.core.display.Javascript object>"
      ]
     },
     "metadata": {},
     "output_type": "display_data"
    },
    {
     "data": {
      "application/javascript": [
       "require([\"nbextensions/vpython_libraries/glowcomm\"], function(){console.log(\"GLOWCOMM LOADED\");})"
      ],
      "text/plain": [
       "<IPython.core.display.Javascript object>"
      ]
     },
     "metadata": {},
     "output_type": "display_data"
    },
    {
     "data": {
      "application/javascript": [
       "require([\"nbextensions/vpython_libraries/jquery-ui.custom.min\"], function(){console.log(\"JQUERY LOADED\");})"
      ],
      "text/plain": [
       "<IPython.core.display.Javascript object>"
      ]
     },
     "metadata": {},
     "output_type": "display_data"
    },
    {
     "data": {
      "text/html": [
       "<div id=\"glowscript\" class=\"glowscript\"></div>"
      ],
      "text/plain": [
       "<IPython.core.display.HTML object>"
      ]
     },
     "metadata": {},
     "output_type": "display_data"
    },
    {
     "data": {
      "application/javascript": [
       "window.__context = { glowscript_container: $(\"#glowscript\").removeAttr(\"id\")}"
      ],
      "text/plain": [
       "<IPython.core.display.Javascript object>"
      ]
     },
     "metadata": {},
     "output_type": "display_data"
    },
    {
     "name": "stdout",
     "output_type": "stream",
     "text": [
      "Data generated  2018-07-05 15:29:22.915828  in simulation type  Banerjee\n",
      "138  states displayed in  150  frames.\n"
     ]
    }
   ],
   "source": [
    "from vpython import *\n",
    "import numpy as np\n",
    "\n",
    "myopaci = 0.2               # appearance: opacity of arriving and leaving objects\n",
    "povray = False              # whether to generate POVray files\n",
    "fracshow = 1.00             # to show only a portion of data (e.g. 0.94)\n",
    "framerate = 15              # frame rate in Hz, so 30 means 33ms per frame\n",
    "duration = framerate*60*3   # desired duration of movie [total viewing time in seconds]\n",
    "rejectduration = 5          # how long to display rejected tRNA-AA-GxP (in frames)\n",
    "\n",
    "# some geometrical parameters about display:\n",
    "mysphererad = 0.15          # blob size representing amino acids\n",
    "hydrolysis_sh = mysphererad-0.1 # rightward shift after hydrolysis\n",
    "\n",
    "if povray: import povexport; myopaci=0.5            # optional for nicer POVray rendering\n",
    "    \n",
    "\"\"\"Get incoming data generated by simulation engine ChenCode3-riboProof.py. Change to \n",
    "  kproof_HN.npz for simulation with Hopfield-Ninio parameters. Use\n",
    "  kproof_realistic.npz for simulation with more realistic model.\"\"\"\n",
    "data = np.load('kproof_realistic.npz')  \n",
    "print(\"Data generated \", data['now'],\" in simulation type \", data['simtype'])\n",
    "# Extract data from the structure just loaded:\n",
    "ts = data['ts'][0]          # simulation times of transitions\n",
    "states = data['states'][0]  # sequence of states:  states[j] is state exited at ts[j]. \n",
    "                            # states[j+1] is state entered at ts[j].\n",
    "simtype = str(data['simtype'])\n",
    "Nstates = len(states) - 1\n",
    "Nframes = int(duration*framerate)\n",
    "print(Nstates,\" states displayed in \",Nframes,' frames.' )\n",
    "scratch_dir = \"desired directory to save .pov files\" # choose something convenient\n",
    "outfile_name = \"{:05d}_\"+simtype+\".pov\"   # prepend scratch_dir if desired, {:05d} creates\n",
    "                                          # with name format 00001_simtype.pov, 00002_simtype.pov, etc.\n"
   ]
  },
  {
   "cell_type": "markdown",
   "metadata": {},
   "source": [
    "Identify key events:<br>\n",
    "A video frame starts at view-time $m(\\Delta t)$ and ends at $(m+1)(\\Delta t)$, where $m$ is the frame index and $\\Delta t$ is the view time per frame. We wish to identify, and display, the state that is current at $m(\\Delta t)$ (i.e. the most recent state change prior to that), along with two kinds of decoration: \"incoming\" and \"outgoing\" objects.<br>\n",
    "View time tv is time as seen by viewer, distinct from \"simulation time\" ts, which is what the simulation code riboProof outputs. State states$_j$ ends (and state states$_{j+1}$ begins) at simulation time ts$_j$.<br>\n",
    "The correspondence is that view time tv$_j$ equals $j*t_{min}+K*$ts$_j$. Here $t_{min}$ is a minimal delay added to every waiting time and $K$ is a constant chosen to achieve the specified overall duration of the animation.<br>\n",
    "We first step through the simulation times to find the index Jm$_m$ such that $m(\\Delta t)$ just exceeds tvtemp[Jm$_m$] (tvtemp is the same as tv, but with a dummy entry appended at the beginning so that states$_j$ is entered at tvtemp$_j$). Then, states$_{Jm_m}$ will be the state displayed in the frame that starts at $m(\\Delta t)$ and ends at $(m+1)(\\Delta t)$."
   ]
  },
  {
   "cell_type": "code",
   "execution_count": 2,
   "metadata": {},
   "outputs": [],
   "source": [
    "Deltat = 1/framerate    # view time per frame\n",
    "# for easier visualization, we can specify a minimal waiting time between events:\n",
    "tmin = 0.50*Deltat      # 0 means don't adjust waiting times; nonzero adds a minimal wait between each transition time\n",
    "K = (duration - Nstates*tmin)/ts[-1] # scaling constant that connects simulation time to view time\n",
    "if K<=0: error('need longer duration') # minimum duration needed is Nstates*tmin\n",
    "tv = np.arange(Nstates)*tmin + K*ts  # view time of each transition\n",
    "tvtemp = np.insert(tv,0,-1.)         # insert dummy entry at beginning (-1.0) to make loop below terminate\n",
    "                                     # also makes it such that states[j] is entered at tvtemp[j]\n",
    "Jm = -1*np.ones(Nframes+1, dtype='int') # will contain index of state that\n",
    "                                        # is current at the beginning of each video frame\n",
    "j = Nstates                          # work backward from the end to the beginning: last state to first state   \n",
    "for m in range(Nframes,-1,-1):       # work backward from the end to the beginning: last frame to first frame\n",
    "    viewtime = m/framerate\n",
    "    while tvtemp[j] > viewtime: \n",
    "        j = j-1                      # keep stepping the state back to find one that precedes this frame\n",
    "    Jm[m] = j                        # prepend another entry then repeat for previous frame till done\n",
    "\n",
    "Jm = np.append(Jm, Nstates-1)        # add last state to end of Jm since displaying arriving tRNAs \n",
    "                                     # requires looking ahead one state"
   ]
  },
  {
   "cell_type": "markdown",
   "metadata": {},
   "source": [
    "Set up objects, many initially invisible:"
   ]
  },
  {
   "cell_type": "code",
   "execution_count": 3,
   "metadata": {},
   "outputs": [
    {
     "data": {
      "text/html": [
       "<div id=\"glowscript\" class=\"glowscript\"></div>"
      ],
      "text/plain": [
       "<IPython.core.display.HTML object>"
      ]
     },
     "metadata": {},
     "output_type": "display_data"
    },
    {
     "data": {
      "application/javascript": [
       "window.__context = { glowscript_container: $(\"#glowscript\").removeAttr(\"id\")}"
      ],
      "text/plain": [
       "<IPython.core.display.Javascript object>"
      ]
     },
     "metadata": {},
     "output_type": "display_data"
    }
   ],
   "source": [
    "scene = canvas(title='KP')\n",
    "scene.userzoom = False          # disables ability to zoom in and out on canvas with mouse scroll\n",
    "scene.forward = vector(0,.4,-1) # camera viewpoint\n",
    "# represent ribosome by a blue tabletop\n",
    "static = box(pos=vector(0,0,0), size=vector(mysphererad*0.9*25*1.5,1,.2), color=color.blue)\n",
    "# represent the bound tRNA-GTP complex by a cylinder, with dark color \n",
    "bindsite = vector(-.15,0,.1) # binding site of tRNA-GTP complex\n",
    "boundT = cylinder(pos=bindsite+vector(0,0,mysphererad*1.5), axis=vector(0,0,.17),\\\n",
    "                  radius=mysphererad*.85)\n",
    "boundT.visible = False # initially none, True when binding occurs\n",
    "# after a tRNA-GTP is rejected, briefly show it as ghost\n",
    "rejectT = cylinder(pos=bindsite+vector(0.5*mysphererad, 0.3*mysphererad, 1.7*mysphererad), \\\n",
    "                   axis=vector(0,0,.17), radius=mysphererad*.80, opacity=myopaci)\n",
    "rejectT.visible = False # initially none, True when tRNA-GTP is rejected\n",
    "# represent the bound tRNA-GDP complex by a sphere, with bright color\n",
    "boundD = sphere(pos=bindsite+vector(hydrolysis_sh,0,mysphererad*2), radius=mysphererad*0.9)\n",
    "boundD.visible = False # initially none, True when hydrolysis occurs\n",
    "# after a tRNA-GDP is rejected, briefly show it as ghost\n",
    "rejectD = sphere(pos=bindsite+vector(0.5*mysphererad+hydrolysis_sh, 0.3*mysphererad, \\\n",
    "                                     2.2*mysphererad), radius=mysphererad*.85, opacity=myopaci)\n",
    "rejectD.visible = False # initially none, True when tRNA-GDP rejection occurs\n",
    "# just  before a tRNA-GTP binds, briefly show it as ghost\n",
    "arrivingT = cylinder(pos=bindsite+vector(-.5*mysphererad, 0.3*mysphererad, 1.6*mysphererad), \\\n",
    "                     axis=vector(0,0,.17), radius=mysphererad*.80, opacity=myopaci)\n",
    "arrivingT.visible = False # initially none, True when tRNA-GTP is arriving\n",
    "\n",
    "chain = [] #list of bright spheres representing incorporated amino acids. Last item in chain is most recent \n",
    "           #addition and will be displayed leftmost.\n",
    "chainsite = vector(+.25,0,.1) # leftmost position of amino acid chain\n",
    "timerT = 0; timerD = 0      # initialize timer for how long rejection complexes will appear, timerT for tRNA-GTP complex, timerD for tRNA-GDP complex\n",
    "frametext = label(text=str(0), color=color.green, pos=vector(0,-1.0,0.15)) # text on screen with frame and state index"
   ]
  },
  {
   "cell_type": "code",
   "execution_count": 4,
   "metadata": {},
   "outputs": [
    {
     "name": "stdout",
     "output_type": "stream",
     "text": [
      "correct incorporation frame  41 , state index= 30\n"
     ]
    }
   ],
   "source": [
    "for whichframe in range(1, int(Nframes*fracshow)+1): # here we assume the frame from m=1 to m=2 is the first frame \n",
    "                                                     # and skip the m=0 to m=1 frame \n",
    "                                                     # so that the lookback code below can go back one state at the beginning\n",
    "    frametext.text = str(whichframe)+\" : \"+str(Jm[whichframe]) # update text displaying frame and state index\n",
    "    arriving = 0; arrivingT.visible = False  # reset the arriving amino acid on each video frame\n",
    "    # animate rejection, but if rejected complex has been displayed for more than \n",
    "    # rejectduration number of frames, turn off display:\n",
    "    if timerD > rejectduration: rejectD.visible = False\n",
    "    else: rejectD.pos += vector(0, 0.15*mysphererad*1.5, 0.15*mysphererad*1.5) # move rejected complex a little bit each frame\n",
    "    if timerT > rejectduration: rejectT.visible = False\n",
    "    else: rejectT.pos += vector(0, 0.15*mysphererad*1.5, 0.15*mysphererad*1.5)\n",
    "    for lookahead in range(Jm[whichframe], Jm[whichframe+1]): # check if arrival in the next frame\n",
    "        if states[lookahead]==0: # if current frame is displaying empty ribosome, check for arriving tRNA in next state\n",
    "            if states[lookahead+1]==1: arriving=1 # 1 is for correct tRNA-GTP complex binding\n",
    "            elif states[lookahead+1]==2: arriving=2 # 2 is for wrong tRNA-GTP complex binding\n",
    "    for lookback in range(Jm[whichframe-1]+1, Jm[whichframe]+1): # check if rejection or incorporation in this frame\n",
    "        # the +1 outside the brackets accounts for the possibility that two or no tranisiton times happened within the current frame\n",
    "        if states[lookback]==0: # if current state is an empty ribosome, check for rejection in the previous state\n",
    "            if states[lookback-1]==1:            # check if C.GTP was rejected\n",
    "                rejectT.visible = True           # later will also turn off boundT\n",
    "                timerT = 0                       # display rejected amino acid for rejectduration number of frames \n",
    "                rejectT.color = vector(.5,1,.5)  # dark translucent green\n",
    "                rejectT.pos = bindsite+vector(0.5*mysphererad, 0.3*mysphererad, 1.7*mysphererad)\n",
    "            elif states[lookback-1]==2:          # check if W.GTP was rejected\n",
    "                rejectT.visible = True           # later will also turn off boundT\n",
    "                timerT = 0                       # display rejected amino acid\n",
    "                rejectT.color = vector(1,.5,.5)  # dark translucent red\n",
    "                rejectT.pos = bindsite+vector(0.5*mysphererad, 0.3*mysphererad, 1.7*mysphererad)\n",
    "            elif states[lookback-1]==3:          # check if C.GDP was rejected\n",
    "                rejectD.visible = True           # later will also turn off boundD\n",
    "                timerD = 0                       # display rejected amino acid \n",
    "                rejectD.color = vector(0,1,0)    # bright translucent green\n",
    "                rejectD.pos = bindsite+vector(0.5*mysphererad+hydrolysis_sh, 0.3*mysphererad, \\\n",
    "                                     2.2*mysphererad)\n",
    "            elif states[lookback-1]==4:          # check if W.GDP was rejected\n",
    "                rejectD.visible = True           # later will also turn off boundD\n",
    "                timerD = 0                       # display rejected amino \n",
    "                rejectD.color = vector(1,0,0)    # bright translucent red\n",
    "                rejectD.pos = bindsite+vector(0.5*mysphererad+hydrolysis_sh, 0.3*mysphererad, \\\n",
    "                                     2.2*mysphererad)\n",
    "            elif states[lookback-1]==-3: # check if correct amino acid was incorporated\n",
    "                # this is not a rejection so rejectD is not turned on, but if it's already on from a\n",
    "                # previous rejection event leave it on\n",
    "                for amino in chain:              # push all amino acids to right\n",
    "                    amino.pos = amino.pos + vector(mysphererad*1.9,0,0)\n",
    "                chain = chain + [sphere(pos=chainsite+vector(0,0,.3), \\\n",
    "                                        radius=mysphererad*0.9,color=vector(0,1,0))]\n",
    "            elif states[lookback-1]==-4:# check if wrong amino acid was incorporated\n",
    "                # this is not a rejection so rejectD is not turned on, but if it's already on from a\n",
    "                # previous rejection event leave it on\n",
    "                for amino in chain:              # push all amino acids to right\n",
    "                    amino.pos = amino.pos + vector(mysphererad*2,0,0)\n",
    "                chain = chain + [sphere(pos=chainsite+vector(0,0,.3), \\\n",
    "                                        radius=mysphererad*0.9,color=vector(1,0,0))]\n",
    "    newstate = states[Jm[whichframe]] # display state that is current at the beginning of this frame\n",
    "    if newstate==0:                        # unoccupied; continue to display rejected complex if there is one\n",
    "        boundT.visible = False\n",
    "        boundD.visible = False\n",
    "    elif newstate==1:                      # correct tRNA.GTP: dark green\n",
    "        boundT.visible = True\n",
    "        boundT.color = vector(0,.3,0)\n",
    "        boundD.visible = False\n",
    "    elif newstate==2:                      # wrong tRNA.GTP: dark red\n",
    "        boundT.visible = True\n",
    "        boundT.color = vector(.3,0,0)\n",
    "        boundD.visible = False\n",
    "    elif newstate==3 or newstate==-3:      # correct tRNA.GDP: green\n",
    "        boundT.visible = False\n",
    "        boundD.visible = True\n",
    "        boundD.color = vector(0,1,0)\n",
    "    elif newstate==4 or newstate==-4:      # wrong tRNA.GDP: red\n",
    "        boundT.visible = False\n",
    "        boundD.visible = True\n",
    "        boundD.color = vector(1,0,0)\n",
    "    # animate arrival:\n",
    "    if arriving==1: \n",
    "        arrivingT.visible = True; arrivingT.color = vector(.5,1,.5)\n",
    "    if arriving==2:\n",
    "        arrivingT.visible = True; arrivingT.color = vector(1,.5,.5)\n",
    "    timerT += 1; timerD += 1 # increment timer for rejection complexes\n",
    "    if povray: \n",
    "        povexport.export(canvas=scene, filename=outfile_name.format(whichframe))\n",
    "    rate(framerate)                        # pause till it's time to show next frame"
   ]
  }
 ],
 "metadata": {
  "kernelspec": {
   "display_name": "Python 3",
   "language": "python",
   "name": "python3"
  },
  "language_info": {
   "codemirror_mode": {
    "name": "ipython",
    "version": 3
   },
   "file_extension": ".py",
   "mimetype": "text/x-python",
   "name": "python",
   "nbconvert_exporter": "python",
   "pygments_lexer": "ipython3",
   "version": "3.6.5"
  }
 },
 "nbformat": 4,
 "nbformat_minor": 2
}
